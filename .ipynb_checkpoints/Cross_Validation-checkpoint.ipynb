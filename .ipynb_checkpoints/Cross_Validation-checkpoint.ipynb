{
 "cells": [
  {
   "cell_type": "code",
   "execution_count": 1,
   "id": "d4bc2c9f-f97d-42c6-962b-dad436797524",
   "metadata": {},
   "outputs": [],
   "source": [
    "import pandas as pd\n",
    "import numpy as np\n",
    "from sklearn.preprocessing import OneHotEncoder\n",
    "from sklearn.linear_model import LogisticRegression\n",
    "from sklearn.svm import SVC\n",
    "from sklearn.model_selection import train_test_split\n",
    "from sklearn.metrics import accuracy_score, f1_score, recall_score, precision_score\n",
    "from sklearn.model_selection import StratifiedKFold\n",
    "from sklearn.model_selection import cross_val_score\n",
    "from sklearn.metrics import accuracy_score\n",
    "from sklearn.neighbors import KNeighborsClassifier\n",
    "import warnings\n",
    "warnings.simplefilter(action='ignore', category=FutureWarning)"
   ]
  },
  {
   "cell_type": "code",
   "execution_count": 2,
   "id": "1c5fc7d0-e971-4d7a-b6e4-0a864bf1be29",
   "metadata": {},
   "outputs": [],
   "source": [
    "# Prepare the Data\n",
    "existing_unicorn_data = pd.read_csv('Datasets/Existing_Companies.csv', encoding='unicode_escape')\n",
    "existing_unicorn_data = existing_unicorn_data[['Country', 'Industry']]\n",
    "\n",
    "# Perform encoding on categorical variables (one-hot encoding)\n",
    "existing_unicorn_data = pd.get_dummies(existing_unicorn_data, columns=['Industry', 'Country'])\n",
    "\n",
    "# Analyze the distribution of industries and countries\n",
    "industry_distribution = existing_unicorn_data.filter(like='Industry_').sum().to_dict()\n",
    "country_distribution = existing_unicorn_data.filter(like='Country_').sum().to_dict()\n",
    "\n",
    "# Define industry_country_counts\n",
    "industry_country_counts = {}\n",
    "for industry in industry_distribution:\n",
    "    industry_country_counts[industry] = {}\n",
    "    for country in country_distribution:\n",
    "        industry_country_counts[industry][country] = existing_unicorn_data[(existing_unicorn_data[industry] == 1) & (existing_unicorn_data[country] == 1)].shape[0]\n",
    "\n",
    "# Define a function to assign likelihood labels dynamically based on distribution\n",
    "def assign_likelihood_dynamic(row, industry_country_counts):\n",
    "    likelihood = 0  # Default: low chance\n",
    "\n",
    "    # Check each combination of industry and country\n",
    "    for industry, country_count_dict in industry_country_counts.items():\n",
    "        if row[industry] == 1:\n",
    "            for country, count in country_count_dict.items():\n",
    "                if row[country] == 1:\n",
    "                    if count > 35:  # Example threshold for high chance\n",
    "                        likelihood = 2  # High chance\n",
    "                    elif count > 10:  # Example threshold for medium chance\n",
    "                        likelihood = 1  # Medium chance\n",
    "                    return likelihood  # If combination found, return likelihood\n",
    "\n",
    "    return likelihood\n",
    "\n",
    "# Apply the function to assign likelihood labels\n",
    "existing_unicorn_data['Likelihood'] = existing_unicorn_data.apply(assign_likelihood_dynamic, axis=1, industry_country_counts=industry_country_counts)\n",
    "\n",
    "# Train the Models\n",
    "X = existing_unicorn_data.drop('Likelihood', axis=1)\n",
    "y = existing_unicorn_data['Likelihood']\n",
    "\n",
    "X_train, X_test, y_train, y_test = train_test_split(X, y, test_size=0.3, random_state=42)"
   ]
  },
  {
   "cell_type": "code",
   "execution_count": 3,
   "id": "8ede818f-ac50-4358-8c80-53253f567fb5",
   "metadata": {},
   "outputs": [
    {
     "data": {
      "text/plain": [
       "KNeighborsClassifier()"
      ]
     },
     "execution_count": 3,
     "metadata": {},
     "output_type": "execute_result"
    }
   ],
   "source": [
    "# Initialize the classifier\n",
    "clf_lr = LogisticRegression()\n",
    "clf_lr.fit(X_train, y_train)\n",
    "\n",
    "clf_svm = SVC()\n",
    "clf_svm.fit(X_train, y_train)\n",
    "\n",
    "clf_svm_li = SVC(kernel='linear')\n",
    "clf_svm_li.fit(X_train, y_train)\n",
    "\n",
    "clf_knn = KNeighborsClassifier(n_neighbors=5)  \n",
    "clf_knn.fit(X_train, y_train)"
   ]
  },
  {
   "cell_type": "markdown",
   "id": "c07361c6-210d-460f-be4a-cd04d4133de2",
   "metadata": {},
   "source": [
    "### Cross Validation (n_splits) = 5"
   ]
  },
  {
   "cell_type": "code",
   "execution_count": 4,
   "id": "4369d770-73c3-45d9-8e10-b0260cfb7a04",
   "metadata": {},
   "outputs": [
    {
     "name": "stdout",
     "output_type": "stream",
     "text": [
      "Cross-Validation F1 Score Logistic Regression: 0.8652311195640578\n",
      "Cross-Validation F1 Score SVM: 0.9960881474754949\n",
      "Cross-Validation F1 Score SVM Linear: 0.9142263953228313\n",
      "Cross-Validation F1 Score KNN: 0.8666273391245285\n"
     ]
    }
   ],
   "source": [
    "# Define the cross-validation method\n",
    "kf_5 = StratifiedKFold(n_splits=5, shuffle=True, random_state=42)\n",
    "\n",
    "# Perform cross-validation and evaluate the model\n",
    "cv_scores_lr = cross_val_score(clf_lr, X_train, y_train, cv=kf_5, scoring='f1_macro')\n",
    "cv_scores_svm = cross_val_score(clf_svm, X_train, y_train, cv=kf_5, scoring='f1_macro')\n",
    "cv_scores_svm_li = cross_val_score(clf_svm_li, X_train, y_train, cv=kf_5, scoring='f1_macro')\n",
    "cv_scores_knn = cross_val_score(clf_knn, X_train, y_train, cv=kf_5, scoring='f1_macro')\n",
    "\n",
    "# Print the average F1 score across all folds\n",
    "print(\"Cross-Validation F1 Score Logistic Regression:\", cv_scores_lr.mean())\n",
    "print(\"Cross-Validation F1 Score SVM:\", cv_scores_svm.mean())\n",
    "print(\"Cross-Validation F1 Score SVM Linear:\", cv_scores_svm_li.mean())\n",
    "print(\"Cross-Validation F1 Score KNN:\", cv_scores_knn.mean())"
   ]
  },
  {
   "cell_type": "markdown",
   "id": "eb26d5d7-9ce3-4893-84f4-0339031f37f5",
   "metadata": {},
   "source": [
    "### Cross Validation (n_splits) = 10"
   ]
  },
  {
   "cell_type": "code",
   "execution_count": 5,
   "id": "30035906-b79b-4f90-8c5b-6ac259241057",
   "metadata": {},
   "outputs": [
    {
     "name": "stdout",
     "output_type": "stream",
     "text": [
      "Cross-Validation F1 Score Logistic Regression: 0.8646335294028413\n",
      "Cross-Validation F1 Score SVM: 0.996170319979844\n",
      "Cross-Validation F1 Score SVM Linear: 0.9157914025663663\n",
      "Cross-Validation F1 Score KNN: 0.8817399287320754\n"
     ]
    }
   ],
   "source": [
    "# Define the cross-validation method\n",
    "kf_10 = StratifiedKFold(n_splits=10, shuffle=True, random_state=42)\n",
    "\n",
    "# Perform cross-validation and evaluate the model\n",
    "cv_scores_lr = cross_val_score(clf_lr, X_train, y_train, cv=kf_10, scoring='f1_macro')\n",
    "cv_scores_svm = cross_val_score(clf_svm, X_train, y_train, cv=kf_10, scoring='f1_macro')\n",
    "cv_scores_svm_li = cross_val_score(clf_svm_li, X_train, y_train, cv=kf_10, scoring='f1_macro')\n",
    "cv_scores_knn = cross_val_score(clf_knn, X_train, y_train, cv=kf_10, scoring='f1_macro')\n",
    "\n",
    "# Print the average F1 score across all folds\n",
    "print(\"Cross-Validation F1 Score Logistic Regression:\", cv_scores_lr.mean())\n",
    "print(\"Cross-Validation F1 Score SVM:\", cv_scores_svm.mean())\n",
    "print(\"Cross-Validation F1 Score SVM Linear:\", cv_scores_svm_li.mean())\n",
    "print(\"Cross-Validation F1 Score KNN:\", cv_scores_knn.mean())"
   ]
  },
  {
   "cell_type": "markdown",
   "id": "7accb236-5bc5-4f25-82e2-5721742104c5",
   "metadata": {},
   "source": [
    "### Cross Validation (n_splits) = 15"
   ]
  },
  {
   "cell_type": "code",
   "execution_count": 6,
   "id": "19651186-9898-4b72-b8bd-a5de8ef58ddc",
   "metadata": {},
   "outputs": [
    {
     "name": "stdout",
     "output_type": "stream",
     "text": [
      "Cross-Validation F1 Score Logistic Regression: 0.8686238677283377\n",
      "Cross-Validation F1 Score SVM: 0.9961329732627047\n",
      "Cross-Validation F1 Score SVM Linear: 0.9133839987369335\n",
      "Cross-Validation F1 Score KNN: 0.8717036873858943\n"
     ]
    }
   ],
   "source": [
    "# Define the cross-validation method\n",
    "kf_15 = StratifiedKFold(n_splits=15, shuffle=True, random_state=42)\n",
    "\n",
    "# Perform cross-validation and evaluate the model\n",
    "cv_scores_lr = cross_val_score(clf_lr, X_train, y_train, cv=kf_15, scoring='f1_macro')\n",
    "cv_scores_svm = cross_val_score(clf_svm, X_train, y_train, cv=kf_15, scoring='f1_macro')\n",
    "cv_scores_svm_li = cross_val_score(clf_svm_li, X_train, y_train, cv=kf_15, scoring='f1_macro')\n",
    "cv_scores_knn = cross_val_score(clf_knn, X_train, y_train, cv=kf_15, scoring='f1_macro')\n",
    "\n",
    "# Print the average F1 score across all folds\n",
    "print(\"Cross-Validation F1 Score Logistic Regression:\", cv_scores_lr.mean())\n",
    "print(\"Cross-Validation F1 Score SVM:\", cv_scores_svm.mean())\n",
    "print(\"Cross-Validation F1 Score SVM Linear:\", cv_scores_svm_li.mean())\n",
    "print(\"Cross-Validation F1 Score KNN:\", cv_scores_knn.mean())"
   ]
  },
  {
   "cell_type": "code",
   "execution_count": null,
   "id": "7a84c35f-d92a-427c-866f-2f6f32001c5c",
   "metadata": {},
   "outputs": [],
   "source": []
  }
 ],
 "metadata": {
  "kernelspec": {
   "display_name": "Python 3 (ipykernel)",
   "language": "python",
   "name": "python3"
  },
  "language_info": {
   "codemirror_mode": {
    "name": "ipython",
    "version": 3
   },
   "file_extension": ".py",
   "mimetype": "text/x-python",
   "name": "python",
   "nbconvert_exporter": "python",
   "pygments_lexer": "ipython3",
   "version": "3.9.13"
  }
 },
 "nbformat": 4,
 "nbformat_minor": 5
}
