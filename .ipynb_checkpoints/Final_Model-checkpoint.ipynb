{
 "cells": [
  {
   "cell_type": "markdown",
   "id": "ce621b4b-27c7-483f-aa67-105ee9f5b1f6",
   "metadata": {},
   "source": [
    "### Import Libraries"
   ]
  },
  {
   "cell_type": "code",
   "execution_count": 1,
   "id": "3a6c6d84-c0d0-49a1-a477-25c049bb1f23",
   "metadata": {},
   "outputs": [],
   "source": [
    "import pandas as pd\n",
    "import numpy as np\n",
    "from sklearn.preprocessing import OneHotEncoder\n",
    "from sklearn.linear_model import LogisticRegression\n",
    "from sklearn.svm import SVC\n",
    "from sklearn.model_selection import train_test_split\n",
    "from sklearn.metrics import accuracy_score, f1_score, recall_score, precision_score\n",
    "from sklearn.model_selection import StratifiedKFold\n",
    "from sklearn.model_selection import cross_val_score\n",
    "from sklearn.metrics import accuracy_score\n",
    "from sklearn.neighbors import KNeighborsClassifier\n",
    "import warnings\n",
    "warnings.filterwarnings(\"ignore\", category=FutureWarning)"
   ]
  },
  {
   "cell_type": "code",
   "execution_count": 2,
   "id": "29695d70-1411-4523-a9a6-d9c22f0f627f",
   "metadata": {},
   "outputs": [],
   "source": [
    "# Prepare the Data\n",
    "existing_unicorn_data = pd.read_csv('Datasets/Existing_Companies.csv', encoding='unicode_escape')\n",
    "existing_unicorn_data = existing_unicorn_data[['Country', 'Industry']]\n",
    "\n",
    "# Perform encoding on categorical variables (one-hot encoding)\n",
    "existing_unicorn_data = pd.get_dummies(existing_unicorn_data, columns=['Industry', 'Country'])\n",
    "\n",
    "# Analyze the distribution of industries and countries\n",
    "industry_distribution = existing_unicorn_data.filter(like='Industry_').sum().to_dict()\n",
    "country_distribution = existing_unicorn_data.filter(like='Country_').sum().to_dict()\n",
    "\n",
    "# Define industry_country_counts\n",
    "industry_country_counts = {}\n",
    "for industry in industry_distribution:\n",
    "    industry_country_counts[industry] = {}\n",
    "    for country in country_distribution:\n",
    "        industry_country_counts[industry][country] = existing_unicorn_data[(existing_unicorn_data[industry] == 1) & (existing_unicorn_data[country] == 1)].shape[0]\n",
    "\n",
    "# Define a function to assign likelihood labels dynamically based on distribution\n",
    "def assign_likelihood_dynamic(row, industry_country_counts):\n",
    "    likelihood = 0  # Default: low chance\n",
    "\n",
    "    # Check each combination of industry and country\n",
    "    for industry, country_count_dict in industry_country_counts.items():\n",
    "        if row[industry] == 1:\n",
    "            for country, count in country_count_dict.items():\n",
    "                if row[country] == 1:\n",
    "                    if count > 35:  # Example threshold for high chance\n",
    "                        likelihood = 2  # High chance\n",
    "                    elif count > 10:  # Example threshold for medium chance\n",
    "                        likelihood = 1  # Medium chance\n",
    "                    return likelihood  # If combination found, return likelihood\n",
    "\n",
    "    return likelihood\n",
    "\n",
    "# Apply the function to assign likelihood labels\n",
    "existing_unicorn_data['Likelihood'] = existing_unicorn_data.apply(assign_likelihood_dynamic, axis=1, industry_country_counts=industry_country_counts)\n",
    "\n",
    "# Train the Models\n",
    "X = existing_unicorn_data.drop('Likelihood', axis=1)\n",
    "y = existing_unicorn_data['Likelihood']\n",
    "\n",
    "X_train, X_test, y_train, y_test = train_test_split(X, y, test_size=0.3, random_state=42)"
   ]
  },
  {
   "cell_type": "markdown",
   "id": "ac4c845d-b431-442e-8dc9-59a532c5d989",
   "metadata": {},
   "source": [
    "### Logistic Regression classifier"
   ]
  },
  {
   "cell_type": "code",
   "execution_count": 3,
   "id": "99f7d976-1932-4bd5-bf58-470f1a2e50ae",
   "metadata": {},
   "outputs": [
    {
     "name": "stdout",
     "output_type": "stream",
     "text": [
      "Metrics for Logistic Regression Classifier:\n",
      "F1 Score: 0.936586453281677\n",
      "Recall: 0.9369158878504673\n",
      "Precision: 0.9362984203652466\n"
     ]
    }
   ],
   "source": [
    "# Train a Logistic Regression classifier\n",
    "clf_lr = LogisticRegression(random_state=42)\n",
    "clf_lr.fit(X_train, y_train)\n",
    "\n",
    "# Predict using the Logistic Regression classifier\n",
    "y_pred_lr = clf_lr.predict(X_test)\n",
    "\n",
    "# Calculate Metrics\n",
    "# accuracy = accuracy_score(y_test, y_pred_lr)\n",
    "f1 = f1_score(y_test, y_pred_lr, average='weighted')\n",
    "recall = recall_score(y_test, y_pred_lr, average='weighted')\n",
    "precision = precision_score(y_test, y_pred_lr, average='weighted')\n",
    "\n",
    "# Print Metrics\n",
    "print(\"Metrics for Logistic Regression Classifier:\")\n",
    "# print(\"Accuracy:\", accuracy)\n",
    "print(\"F1 Score:\", f1)\n",
    "print(\"Recall:\", recall)\n",
    "print(\"Precision:\", precision)"
   ]
  },
  {
   "cell_type": "markdown",
   "id": "7d544ce9-cc3c-42ff-b700-aff070c72d71",
   "metadata": {},
   "source": [
    "### Support Vector Machines (SVM) classifier"
   ]
  },
  {
   "cell_type": "code",
   "execution_count": 9,
   "id": "7cb8a2e8-5013-457c-a4fe-a8e50c672a52",
   "metadata": {},
   "outputs": [
    {
     "name": "stdout",
     "output_type": "stream",
     "text": [
      "Metrics for Support Vector Machines (SVM) classifier:\n",
      "F1 Score: 1.0\n",
      "Recall: 1.0\n",
      "Precision: 1.0\n"
     ]
    }
   ],
   "source": [
    "# Train a Support Vector Machines (SVM) classifier\n",
    "clf_svm = SVC(random_state=42)\n",
    "clf_svm.fit(X_train, y_train)\n",
    "\n",
    "# Predict using the Support Vector Machines (SVM) classifier\n",
    "y_pred_svm = clf_svm.predict(X_test)\n",
    "\n",
    "# Calculate Metrics\n",
    "# accuracy = accuracy_score(y_test, y_pred_svm)\n",
    "f1 = f1_score(y_test, y_pred_svm, average='weighted')\n",
    "recall = recall_score(y_test, y_pred_svm, average='weighted')\n",
    "precision = precision_score(y_test, y_pred_svm, average='weighted')\n",
    "\n",
    "# Print Metrics\n",
    "print(\"Metrics for Support Vector Machines (SVM) classifier:\")\n",
    "# print(\"Accuracy:\", accuracy)\n",
    "print(\"F1 Score:\", f1)\n",
    "print(\"Recall:\", recall)\n",
    "print(\"Precision:\", precision)"
   ]
  },
  {
   "cell_type": "markdown",
   "id": "97fd16b3-72ba-421c-92ef-82446e1e8fef",
   "metadata": {},
   "source": [
    "### k-Nearest Neighbors (KNN) classifier"
   ]
  },
  {
   "cell_type": "code",
   "execution_count": 5,
   "id": "4beea9e9-6a95-4624-ab25-20062f0f9f72",
   "metadata": {},
   "outputs": [
    {
     "name": "stdout",
     "output_type": "stream",
     "text": [
      "Metrics for k-Nearest Neighbors Classifier:\n",
      "F1 Score: 0.9284045316623573\n",
      "Recall: 0.9322429906542056\n",
      "Precision: 0.9378855335233616\n"
     ]
    }
   ],
   "source": [
    "# Train a k-Nearest Neighbors classifier\n",
    "clf_knn = KNeighborsClassifier(n_neighbors=5)  # Adjust the number of neighbors as needed\n",
    "clf_knn.fit(X_train, y_train)\n",
    "\n",
    "# Predict using the k-Nearest Neighbors classifier\n",
    "y_pred_knn = clf_knn.predict(X_test)\n",
    "\n",
    "# Calculate Metrics\n",
    "f1_knn = f1_score(y_test, y_pred_knn, average='weighted')\n",
    "recall_knn = recall_score(y_test, y_pred_knn, average='weighted')\n",
    "precision_knn = precision_score(y_test, y_pred_knn, average='weighted')\n",
    "\n",
    "# Print Metrics\n",
    "print(\"Metrics for k-Nearest Neighbors Classifier:\")\n",
    "print(\"F1 Score:\", f1_knn)\n",
    "print(\"Recall:\", recall_knn)\n",
    "print(\"Precision:\", precision_knn)"
   ]
  },
  {
   "cell_type": "markdown",
   "id": "6191eb17-10db-47ab-a204-d42819960b5d",
   "metadata": {},
   "source": [
    "### Cross Validation (n_splits) = 5"
   ]
  },
  {
   "cell_type": "code",
   "execution_count": 10,
   "id": "3950fe34-9703-406b-84b6-7f045634f8e4",
   "metadata": {},
   "outputs": [
    {
     "name": "stdout",
     "output_type": "stream",
     "text": [
      "Cross-Validation F1 Score Logistict Regression: 0.8652311195640578\n",
      "Cross-Validation F1 Score SVM: 0.9142263953228313\n",
      "Cross-Validation F1 Score KNN: 0.8666273391245285\n"
     ]
    }
   ],
   "source": [
    "# Initialize the classifier\n",
    "clf_lr = LogisticRegression()\n",
    "clf_lr.fit(X_train, y_train)\n",
    "\n",
    "clf_svm = SVC(kernel='linear', random_state=42)\n",
    "clf_svm.fit(X_train, y_train)\n",
    "\n",
    "clf_knn = KNeighborsClassifier(n_neighbors=5)  # Adjust the number of neighbors as needed\n",
    "clf_knn.fit(X_train, y_train)\n",
    "\n",
    "# Define the cross-validation method\n",
    "kf = StratifiedKFold(n_splits=5, shuffle=True, random_state=42)\n",
    "\n",
    "# Perform cross-validation and evaluate the model\n",
    "cv_scores_lr = cross_val_score(clf_lr, X_train, y_train, cv=kf, scoring='accuracy')\n",
    "cv_scores_svm = cross_val_score(clf_svm, X_train, y_train, cv=kf, scoring='accuracy')\n",
    "cv_scores_knn = cross_val_score(clf_knn, X_train, y_train, cv=kf, scoring='accuracy')\n",
    "\n",
    "# Perform cross-validation and evaluate the model\n",
    "cv_scores_lr = cross_val_score(clf_lr, X_train, y_train, cv=kf, scoring='f1_macro')\n",
    "cv_scores_svm = cross_val_score(clf_svm, X_train, y_train, cv=kf, scoring='f1_macro')\n",
    "cv_scores_knn = cross_val_score(clf_knn, X_train, y_train, cv=kf, scoring='f1_macro')\n",
    "\n",
    "# Print the average F1 score across all folds\n",
    "print(\"Cross-Validation F1 Score Logistict Regression:\", cv_scores_lr.mean())\n",
    "print(\"Cross-Validation F1 Score SVM:\", cv_scores_svm.mean())\n",
    "print(\"Cross-Validation F1 Score KNN:\", cv_scores_knn.mean())"
   ]
  },
  {
   "cell_type": "markdown",
   "id": "8c6074c4-9334-499b-b416-577935d7f747",
   "metadata": {},
   "source": [
    "### Cross Validation (n_splits) = 10"
   ]
  },
  {
   "cell_type": "code",
   "execution_count": 11,
   "id": "b40d4bee-c61b-4994-b379-de756110a872",
   "metadata": {},
   "outputs": [
    {
     "name": "stdout",
     "output_type": "stream",
     "text": [
      "Cross-Validation F1 Score Logistict Regression: 0.8646335294028413\n",
      "Cross-Validation F1 Score SVM: 0.9157914025663663\n",
      "Cross-Validation F1 Score KNN: 0.8817399287320754\n"
     ]
    }
   ],
   "source": [
    "# Initialize the classifier\n",
    "clf_lr = LogisticRegression()\n",
    "clf_lr.fit(X_train, y_train)\n",
    "\n",
    "clf_svm = SVC(kernel='linear', random_state=42)\n",
    "clf_svm.fit(X_train, y_train)\n",
    "\n",
    "clf_knn = KNeighborsClassifier(n_neighbors=5)  # Adjust the number of neighbors as needed\n",
    "clf_knn.fit(X_train, y_train)\n",
    "\n",
    "# Define the cross-validation method\n",
    "kf = StratifiedKFold(n_splits=10, shuffle=True, random_state=42)\n",
    "\n",
    "# Perform cross-validation and evaluate the model\n",
    "cv_scores_lr = cross_val_score(clf_lr, X_train, y_train, cv=kf, scoring='accuracy')\n",
    "cv_scores_svm = cross_val_score(clf_svm, X_train, y_train, cv=kf, scoring='accuracy')\n",
    "cv_scores_knn = cross_val_score(clf_knn, X_train, y_train, cv=kf, scoring='accuracy')\n",
    "\n",
    "# Perform cross-validation and evaluate the model\n",
    "cv_scores_lr = cross_val_score(clf_lr, X_train, y_train, cv=kf, scoring='f1_macro')\n",
    "cv_scores_svm = cross_val_score(clf_svm, X_train, y_train, cv=kf, scoring='f1_macro')\n",
    "cv_scores_knn = cross_val_score(clf_knn, X_train, y_train, cv=kf, scoring='f1_macro')\n",
    "\n",
    "# Print the average F1 score across all folds\n",
    "print(\"Cross-Validation F1 Score Logistict Regression:\", cv_scores_lr.mean())\n",
    "print(\"Cross-Validation F1 Score SVM:\", cv_scores_svm.mean())\n",
    "print(\"Cross-Validation F1 Score KNN:\", cv_scores_knn.mean())"
   ]
  },
  {
   "cell_type": "markdown",
   "id": "f5e22e81-75b1-4439-933a-c75ea9247100",
   "metadata": {},
   "source": [
    "### Cross Validation (n_splits) = 15"
   ]
  },
  {
   "cell_type": "code",
   "execution_count": 12,
   "id": "62a0982d-58e5-40d3-9b9a-e14d39335bdb",
   "metadata": {},
   "outputs": [
    {
     "name": "stdout",
     "output_type": "stream",
     "text": [
      "Cross-Validation F1 Score Logistict Regression: 0.8686238677283377\n",
      "Cross-Validation F1 Score SVM: 0.9133839987369335\n",
      "Cross-Validation F1 Score KNN: 0.8717036873858943\n"
     ]
    }
   ],
   "source": [
    "# Initialize the classifier\n",
    "clf_lr = LogisticRegression()\n",
    "clf_lr.fit(X_train, y_train)\n",
    "\n",
    "clf_svm = SVC(kernel='linear', random_state=42)\n",
    "clf_svm.fit(X_train, y_train)\n",
    "\n",
    "clf_knn = KNeighborsClassifier(n_neighbors=5)  # Adjust the number of neighbors as needed\n",
    "clf_knn.fit(X_train, y_train)\n",
    "\n",
    "# Define the cross-validation method\n",
    "kf = StratifiedKFold(n_splits=15, shuffle=True, random_state=42)\n",
    "\n",
    "# Perform cross-validation and evaluate the model\n",
    "cv_scores_lr = cross_val_score(clf_lr, X_train, y_train, cv=kf, scoring='accuracy')\n",
    "cv_scores_svm = cross_val_score(clf_svm, X_train, y_train, cv=kf, scoring='accuracy')\n",
    "cv_scores_knn = cross_val_score(clf_knn, X_train, y_train, cv=kf, scoring='accuracy')\n",
    "\n",
    "# Perform cross-validation and evaluate the model\n",
    "cv_scores_lr = cross_val_score(clf_lr, X_train, y_train, cv=kf, scoring='f1_macro')\n",
    "cv_scores_svm = cross_val_score(clf_svm, X_train, y_train, cv=kf, scoring='f1_macro')\n",
    "cv_scores_knn = cross_val_score(clf_knn, X_train, y_train, cv=kf, scoring='f1_macro')\n",
    "\n",
    "# Print the average F1 score across all folds\n",
    "print(\"Cross-Validation F1 Score Logistict Regression:\", cv_scores_lr.mean())\n",
    "print(\"Cross-Validation F1 Score SVM:\", cv_scores_svm.mean())\n",
    "print(\"Cross-Validation F1 Score KNN:\", cv_scores_knn.mean())"
   ]
  },
  {
   "cell_type": "code",
   "execution_count": null,
   "id": "89de963c-50dd-410b-b6d1-738624a4fcae",
   "metadata": {},
   "outputs": [],
   "source": []
  }
 ],
 "metadata": {
  "kernelspec": {
   "display_name": "Python 3 (ipykernel)",
   "language": "python",
   "name": "python3"
  },
  "language_info": {
   "codemirror_mode": {
    "name": "ipython",
    "version": 3
   },
   "file_extension": ".py",
   "mimetype": "text/x-python",
   "name": "python",
   "nbconvert_exporter": "python",
   "pygments_lexer": "ipython3",
   "version": "3.9.13"
  }
 },
 "nbformat": 4,
 "nbformat_minor": 5
}
