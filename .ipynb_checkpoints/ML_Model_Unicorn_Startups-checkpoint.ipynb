{
 "cells": [
  {
   "cell_type": "code",
   "execution_count": 1,
   "id": "2795ffd6-d96f-49f8-b956-1f1f3b2795ea",
   "metadata": {},
   "outputs": [],
   "source": [
    "# Import libraries\n",
    "import pandas as pd\n",
    "import numpy as np\n",
    "import matplotlib.pyplot as plt\n",
    "import seaborn as sns"
   ]
  },
  {
   "cell_type": "code",
   "execution_count": 2,
   "id": "1b6d72e9-d9e2-43b6-bb2a-3b217fdd281c",
   "metadata": {},
   "outputs": [],
   "source": [
    "exited_df_3 = pd.read_csv(\"Exited_Companies.csv\", encoding='unicode_escape')"
   ]
  },
  {
   "cell_type": "code",
   "execution_count": 3,
   "id": "9aa7f63d-cdf8-4fd2-a812-c15caf99260e",
   "metadata": {},
   "outputs": [],
   "source": [
    "emerging_df_3 = pd.read_csv(\"Emerging_Companies.csv\", encoding='unicode_escape')"
   ]
  },
  {
   "cell_type": "markdown",
   "id": "3ed5bab2-8678-4669-a79b-744164b70a8e",
   "metadata": {},
   "source": [
    "### Emerging Unicorn Companies."
   ]
  },
  {
   "cell_type": "code",
   "execution_count": 4,
   "id": "f03460a6-d3cf-46f5-9522-adff694c654f",
   "metadata": {},
   "outputs": [
    {
     "data": {
      "text/html": [
       "<div>\n",
       "<style scoped>\n",
       "    .dataframe tbody tr th:only-of-type {\n",
       "        vertical-align: middle;\n",
       "    }\n",
       "\n",
       "    .dataframe tbody tr th {\n",
       "        vertical-align: top;\n",
       "    }\n",
       "\n",
       "    .dataframe thead th {\n",
       "        text-align: right;\n",
       "    }\n",
       "</style>\n",
       "<table border=\"1\" class=\"dataframe\">\n",
       "  <thead>\n",
       "    <tr style=\"text-align: right;\">\n",
       "      <th></th>\n",
       "      <th>Company</th>\n",
       "      <th>Post Money Value</th>\n",
       "      <th>Total Equity Funding</th>\n",
       "      <th>Lead Investors Include</th>\n",
       "      <th>Country</th>\n",
       "      <th>Continent</th>\n",
       "    </tr>\n",
       "  </thead>\n",
       "  <tbody>\n",
       "    <tr>\n",
       "      <th>0</th>\n",
       "      <td>8 Rivers</td>\n",
       "      <td>833.0</td>\n",
       "      <td>100</td>\n",
       "      <td>SK Materials</td>\n",
       "      <td>United States</td>\n",
       "      <td>North America</td>\n",
       "    </tr>\n",
       "    <tr>\n",
       "      <th>1</th>\n",
       "      <td>ABLY Corporation</td>\n",
       "      <td>750.0</td>\n",
       "      <td>149</td>\n",
       "      <td>Shinhan Financial Group</td>\n",
       "      <td>South Korea</td>\n",
       "      <td>Asia</td>\n",
       "    </tr>\n",
       "    <tr>\n",
       "      <th>2</th>\n",
       "      <td>Absolute</td>\n",
       "      <td>500.0</td>\n",
       "      <td>116</td>\n",
       "      <td>Surge</td>\n",
       "      <td>India</td>\n",
       "      <td>Asia</td>\n",
       "    </tr>\n",
       "    <tr>\n",
       "      <th>3</th>\n",
       "      <td>ActiveFence</td>\n",
       "      <td>500.0</td>\n",
       "      <td>100</td>\n",
       "      <td>CRV, Highland Europe</td>\n",
       "      <td>Israel</td>\n",
       "      <td>Asia</td>\n",
       "    </tr>\n",
       "    <tr>\n",
       "      <th>4</th>\n",
       "      <td>Addi</td>\n",
       "      <td>700.0</td>\n",
       "      <td>221</td>\n",
       "      <td>GIC</td>\n",
       "      <td>Colombia</td>\n",
       "      <td>South America</td>\n",
       "    </tr>\n",
       "  </tbody>\n",
       "</table>\n",
       "</div>"
      ],
      "text/plain": [
       "            Company  Post Money Value  Total Equity Funding  \\\n",
       "0          8 Rivers             833.0                   100   \n",
       "1  ABLY Corporation             750.0                   149   \n",
       "2          Absolute             500.0                   116   \n",
       "3       ActiveFence             500.0                   100   \n",
       "4              Addi             700.0                   221   \n",
       "\n",
       "    Lead Investors Include        Country      Continent  \n",
       "0             SK Materials  United States  North America  \n",
       "1  Shinhan Financial Group    South Korea           Asia  \n",
       "2                    Surge          India           Asia  \n",
       "3     CRV, Highland Europe         Israel           Asia  \n",
       "4                      GIC       Colombia  South America  "
      ]
     },
     "execution_count": 4,
     "metadata": {},
     "output_type": "execute_result"
    }
   ],
   "source": [
    "emerging_df_3.head(5)"
   ]
  },
  {
   "cell_type": "code",
   "execution_count": 5,
   "id": "1cab5be4-d86a-48e9-84f4-38ed7877af21",
   "metadata": {},
   "outputs": [
    {
     "name": "stdout",
     "output_type": "stream",
     "text": [
      "Data Types Report:\n",
      "Company                    object\n",
      "Post Money Value          float64\n",
      "Total Equity Funding        int64\n",
      "Lead Investors Include     object\n",
      "Country                    object\n",
      "Continent                  object\n",
      "dtype: object\n",
      "\n",
      "Number of Categorical Columns: 4\n",
      "Number of Numerical Columns: 2\n"
     ]
    }
   ],
   "source": [
    "# Display data types of each column\n",
    "data_types_report = emerging_df_3.dtypes\n",
    "\n",
    "# Count the number of categorical and numerical columns\n",
    "categorical_columns = emerging_df_3.select_dtypes(include='object').columns\n",
    "numerical_columns = emerging_df_3.select_dtypes(exclude='object').columns\n",
    "\n",
    "num_categorical_columns = len(categorical_columns)\n",
    "num_numerical_columns = len(numerical_columns)\n",
    "\n",
    "# Print the report\n",
    "print(\"Data Types Report:\")\n",
    "print(data_types_report)\n",
    "print(\"\\nNumber of Categorical Columns:\", num_categorical_columns)\n",
    "print(\"Number of Numerical Columns:\", num_numerical_columns)"
   ]
  },
  {
   "cell_type": "code",
   "execution_count": null,
   "id": "f62efec5-5941-400a-85d0-0b31285948a4",
   "metadata": {},
   "outputs": [],
   "source": []
  }
 ],
 "metadata": {
  "kernelspec": {
   "display_name": "Python 3 (ipykernel)",
   "language": "python",
   "name": "python3"
  },
  "language_info": {
   "codemirror_mode": {
    "name": "ipython",
    "version": 3
   },
   "file_extension": ".py",
   "mimetype": "text/x-python",
   "name": "python",
   "nbconvert_exporter": "python",
   "pygments_lexer": "ipython3",
   "version": "3.9.13"
  }
 },
 "nbformat": 4,
 "nbformat_minor": 5
}
