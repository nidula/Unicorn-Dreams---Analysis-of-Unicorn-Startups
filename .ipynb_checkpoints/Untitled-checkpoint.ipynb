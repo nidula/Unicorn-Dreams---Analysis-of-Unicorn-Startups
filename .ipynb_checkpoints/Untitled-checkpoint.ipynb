{
 "cells": [
  {
   "cell_type": "code",
   "execution_count": 26,
   "id": "e405753b-0c1c-4383-b69a-264fe25918fd",
   "metadata": {},
   "outputs": [
    {
     "name": "stdout",
     "output_type": "stream",
     "text": [
      "              precision    recall  f1-score   support\n",
      "\n",
      "           1       1.00      0.92      0.96        36\n",
      "           2       0.99      1.00      0.99       249\n",
      "\n",
      "    accuracy                           0.99       285\n",
      "   macro avg       0.99      0.96      0.98       285\n",
      "weighted avg       0.99      0.99      0.99       285\n",
      "\n"
     ]
    }
   ],
   "source": [
    "import pandas as pd\n",
    "from sklearn.model_selection import train_test_split\n",
    "from sklearn.ensemble import RandomForestClassifier\n",
    "from sklearn.metrics import classification_report\n",
    "\n",
    "# Prepare the Data\n",
    "existing_unicorn_data = pd.read_csv('existing_unicorn_data.csv')\n",
    "\n",
    "# Perform encoding on categorical variables (one-hot encoding)\n",
    "existing_unicorn_data = pd.get_dummies(existing_unicorn_data, columns=['Industry', 'Country'])\n",
    "\n",
    "# Analyze the distribution of industries and countries\n",
    "industry_distribution = existing_unicorn_data.filter(like='Industry_').sum().to_dict()\n",
    "country_distribution = existing_unicorn_data.filter(like='Country_').sum().to_dict()\n",
    "\n",
    "# Define a function to assign likelihood labels dynamically based on distribution\n",
    "def assign_likelihood_dynamic(row):\n",
    "    likelihood = 0  # Default: low chance\n",
    "\n",
    "    # Assign likelihood based on industry\n",
    "    for industry, count in industry_distribution.items():\n",
    "        if row[industry] == 1:\n",
    "            if count > 40:  # Example threshold for high chance\n",
    "                likelihood = 2  # High chance\n",
    "            elif count > 20:  # Example threshold for medium chance\n",
    "                likelihood = 1  # Medium chance\n",
    "            break  # If industry found, break loop\n",
    "\n",
    "    # Assign likelihood based on country\n",
    "    for country, count in country_distribution.items():\n",
    "        if row[country] == 1:\n",
    "            if count > 80:  # Example threshold for high chance\n",
    "                likelihood = 2  # High chance\n",
    "            elif count > 30:  # Example threshold for medium chance\n",
    "                likelihood = 1  # Medium chance\n",
    "            break  # If country found, break loop\n",
    "\n",
    "    return likelihood\n",
    "\n",
    "# Apply the function to assign likelihood labels\n",
    "existing_unicorn_data['Likelihood'] = existing_unicorn_data.apply(assign_likelihood_dynamic, axis=1)\n",
    "\n",
    "# Train the Model\n",
    "X = existing_unicorn_data.drop('Likelihood', axis=1)\n",
    "y = existing_unicorn_data['Likelihood']\n",
    "\n",
    "X_train, X_test, y_train, y_test = train_test_split(X, y, test_size=0.2, random_state=42)\n",
    "\n",
    "# Train a Random Forest classifier\n",
    "clf = RandomForestClassifier(n_estimators=100, random_state=42)\n",
    "clf.fit(X_train, y_train)\n",
    "\n",
    "# Evaluate the Model\n",
    "y_pred = clf.predict(X_test)\n",
    "print(classification_report(y_test, y_pred))"
   ]
  },
  {
   "cell_type": "code",
   "execution_count": 16,
   "id": "d88c5de1-1114-4348-974f-b45e64da920e",
   "metadata": {},
   "outputs": [
    {
     "data": {
      "text/plain": [
       "array([2, 2, 2, ..., 2, 2, 2], dtype=int64)"
      ]
     },
     "execution_count": 16,
     "metadata": {},
     "output_type": "execute_result"
    }
   ],
   "source": [
    "# Step 5: Predict on New Data\n",
    "\n",
    "# Assuming you have new data in a DataFrame called 'new_data'\n",
    "new_data = pd.read_csv('existing_unicorn_data.csv')\n",
    "# Perform the same preprocessing steps as above\n",
    "new_data_encoded = pd.get_dummies(new_data, columns=['Industry', 'Country'])\n",
    "\n",
    "# Ensure the new_data_encoded DataFrame has the same columns as X_train\n",
    "# Add missing columns with zeros if necessary\n",
    "missing_cols = set(X_train.columns) - set(new_data_encoded.columns)\n",
    "for col in missing_cols:\n",
    "    new_data_encoded[col] = 0\n",
    "\n",
    "# Make predictions\n",
    "predictions = clf.predict(new_data_encoded)\n",
    "\n",
    "# Print the predictions\n",
    "predictions\n"
   ]
  },
  {
   "cell_type": "code",
   "execution_count": 19,
   "id": "782104eb-9ed2-49cf-93cf-2231695c3932",
   "metadata": {},
   "outputs": [
    {
     "data": {
      "text/plain": [
       "['unicorn_classifier_model.pkl']"
      ]
     },
     "execution_count": 19,
     "metadata": {},
     "output_type": "execute_result"
    }
   ],
   "source": [
    "import joblib\n",
    "\n",
    "# Step 6: Export the Model\n",
    "# Save the trained model to a file\n",
    "joblib.dump(clf, 'unicorn_classifier_model.pkl')\n",
    "\n",
    "# Later, you can load the model using:\n",
    "# loaded_model = joblib.load('unicorn_classifier_model.pkl')\n",
    "\n"
   ]
  },
  {
   "cell_type": "code",
   "execution_count": 20,
   "id": "f4c4724d-5cc0-4544-8a65-13cf007f2804",
   "metadata": {},
   "outputs": [
    {
     "ename": "KeyError",
     "evalue": "\"['Likelihood'] not found in axis\"",
     "output_type": "error",
     "traceback": [
      "\u001b[1;31m---------------------------------------------------------------------------\u001b[0m",
      "\u001b[1;31mKeyError\u001b[0m                                  Traceback (most recent call last)",
      "\u001b[1;32m~\\AppData\\Local\\Temp\\ipykernel_8824\\2513272233.py\u001b[0m in \u001b[0;36m<module>\u001b[1;34m\u001b[0m\n\u001b[0;32m     12\u001b[0m \u001b[1;33m\u001b[0m\u001b[0m\n\u001b[0;32m     13\u001b[0m \u001b[1;31m# Predict the likelihood of being a unicorn\u001b[0m\u001b[1;33m\u001b[0m\u001b[1;33m\u001b[0m\u001b[0m\n\u001b[1;32m---> 14\u001b[1;33m \u001b[0mnew_data\u001b[0m\u001b[1;33m[\u001b[0m\u001b[1;34m'Likelihood'\u001b[0m\u001b[1;33m]\u001b[0m \u001b[1;33m=\u001b[0m \u001b[0mloaded_model\u001b[0m\u001b[1;33m.\u001b[0m\u001b[0mpredict\u001b[0m\u001b[1;33m(\u001b[0m\u001b[0mnew_data\u001b[0m\u001b[1;33m.\u001b[0m\u001b[0mdrop\u001b[0m\u001b[1;33m(\u001b[0m\u001b[1;34m'Likelihood'\u001b[0m\u001b[1;33m,\u001b[0m \u001b[0maxis\u001b[0m\u001b[1;33m=\u001b[0m\u001b[1;36m1\u001b[0m\u001b[1;33m)\u001b[0m\u001b[1;33m)\u001b[0m\u001b[1;33m\u001b[0m\u001b[1;33m\u001b[0m\u001b[0m\n\u001b[0m\u001b[0;32m     15\u001b[0m \u001b[1;33m\u001b[0m\u001b[0m\n\u001b[0;32m     16\u001b[0m \u001b[1;31m# Now new_data will have a new column 'Likelihood' with predicted values\u001b[0m\u001b[1;33m\u001b[0m\u001b[1;33m\u001b[0m\u001b[0m\n",
      "\u001b[1;32m~\\anaconda3\\lib\\site-packages\\pandas\\util\\_decorators.py\u001b[0m in \u001b[0;36mwrapper\u001b[1;34m(*args, **kwargs)\u001b[0m\n\u001b[0;32m    309\u001b[0m                     \u001b[0mstacklevel\u001b[0m\u001b[1;33m=\u001b[0m\u001b[0mstacklevel\u001b[0m\u001b[1;33m,\u001b[0m\u001b[1;33m\u001b[0m\u001b[1;33m\u001b[0m\u001b[0m\n\u001b[0;32m    310\u001b[0m                 )\n\u001b[1;32m--> 311\u001b[1;33m             \u001b[1;32mreturn\u001b[0m \u001b[0mfunc\u001b[0m\u001b[1;33m(\u001b[0m\u001b[1;33m*\u001b[0m\u001b[0margs\u001b[0m\u001b[1;33m,\u001b[0m \u001b[1;33m**\u001b[0m\u001b[0mkwargs\u001b[0m\u001b[1;33m)\u001b[0m\u001b[1;33m\u001b[0m\u001b[1;33m\u001b[0m\u001b[0m\n\u001b[0m\u001b[0;32m    312\u001b[0m \u001b[1;33m\u001b[0m\u001b[0m\n\u001b[0;32m    313\u001b[0m         \u001b[1;32mreturn\u001b[0m \u001b[0mwrapper\u001b[0m\u001b[1;33m\u001b[0m\u001b[1;33m\u001b[0m\u001b[0m\n",
      "\u001b[1;32m~\\anaconda3\\lib\\site-packages\\pandas\\core\\frame.py\u001b[0m in \u001b[0;36mdrop\u001b[1;34m(self, labels, axis, index, columns, level, inplace, errors)\u001b[0m\n\u001b[0;32m   4955\u001b[0m                 \u001b[0mweight\u001b[0m  \u001b[1;36m1.0\u001b[0m     \u001b[1;36m0.8\u001b[0m\u001b[1;33m\u001b[0m\u001b[1;33m\u001b[0m\u001b[0m\n\u001b[0;32m   4956\u001b[0m         \"\"\"\n\u001b[1;32m-> 4957\u001b[1;33m         return super().drop(\n\u001b[0m\u001b[0;32m   4958\u001b[0m             \u001b[0mlabels\u001b[0m\u001b[1;33m=\u001b[0m\u001b[0mlabels\u001b[0m\u001b[1;33m,\u001b[0m\u001b[1;33m\u001b[0m\u001b[1;33m\u001b[0m\u001b[0m\n\u001b[0;32m   4959\u001b[0m             \u001b[0maxis\u001b[0m\u001b[1;33m=\u001b[0m\u001b[0maxis\u001b[0m\u001b[1;33m,\u001b[0m\u001b[1;33m\u001b[0m\u001b[1;33m\u001b[0m\u001b[0m\n",
      "\u001b[1;32m~\\anaconda3\\lib\\site-packages\\pandas\\core\\generic.py\u001b[0m in \u001b[0;36mdrop\u001b[1;34m(self, labels, axis, index, columns, level, inplace, errors)\u001b[0m\n\u001b[0;32m   4265\u001b[0m         \u001b[1;32mfor\u001b[0m \u001b[0maxis\u001b[0m\u001b[1;33m,\u001b[0m \u001b[0mlabels\u001b[0m \u001b[1;32min\u001b[0m \u001b[0maxes\u001b[0m\u001b[1;33m.\u001b[0m\u001b[0mitems\u001b[0m\u001b[1;33m(\u001b[0m\u001b[1;33m)\u001b[0m\u001b[1;33m:\u001b[0m\u001b[1;33m\u001b[0m\u001b[1;33m\u001b[0m\u001b[0m\n\u001b[0;32m   4266\u001b[0m             \u001b[1;32mif\u001b[0m \u001b[0mlabels\u001b[0m \u001b[1;32mis\u001b[0m \u001b[1;32mnot\u001b[0m \u001b[1;32mNone\u001b[0m\u001b[1;33m:\u001b[0m\u001b[1;33m\u001b[0m\u001b[1;33m\u001b[0m\u001b[0m\n\u001b[1;32m-> 4267\u001b[1;33m                 \u001b[0mobj\u001b[0m \u001b[1;33m=\u001b[0m \u001b[0mobj\u001b[0m\u001b[1;33m.\u001b[0m\u001b[0m_drop_axis\u001b[0m\u001b[1;33m(\u001b[0m\u001b[0mlabels\u001b[0m\u001b[1;33m,\u001b[0m \u001b[0maxis\u001b[0m\u001b[1;33m,\u001b[0m \u001b[0mlevel\u001b[0m\u001b[1;33m=\u001b[0m\u001b[0mlevel\u001b[0m\u001b[1;33m,\u001b[0m \u001b[0merrors\u001b[0m\u001b[1;33m=\u001b[0m\u001b[0merrors\u001b[0m\u001b[1;33m)\u001b[0m\u001b[1;33m\u001b[0m\u001b[1;33m\u001b[0m\u001b[0m\n\u001b[0m\u001b[0;32m   4268\u001b[0m \u001b[1;33m\u001b[0m\u001b[0m\n\u001b[0;32m   4269\u001b[0m         \u001b[1;32mif\u001b[0m \u001b[0minplace\u001b[0m\u001b[1;33m:\u001b[0m\u001b[1;33m\u001b[0m\u001b[1;33m\u001b[0m\u001b[0m\n",
      "\u001b[1;32m~\\anaconda3\\lib\\site-packages\\pandas\\core\\generic.py\u001b[0m in \u001b[0;36m_drop_axis\u001b[1;34m(self, labels, axis, level, errors, consolidate, only_slice)\u001b[0m\n\u001b[0;32m   4309\u001b[0m                 \u001b[0mnew_axis\u001b[0m \u001b[1;33m=\u001b[0m \u001b[0maxis\u001b[0m\u001b[1;33m.\u001b[0m\u001b[0mdrop\u001b[0m\u001b[1;33m(\u001b[0m\u001b[0mlabels\u001b[0m\u001b[1;33m,\u001b[0m \u001b[0mlevel\u001b[0m\u001b[1;33m=\u001b[0m\u001b[0mlevel\u001b[0m\u001b[1;33m,\u001b[0m \u001b[0merrors\u001b[0m\u001b[1;33m=\u001b[0m\u001b[0merrors\u001b[0m\u001b[1;33m)\u001b[0m\u001b[1;33m\u001b[0m\u001b[1;33m\u001b[0m\u001b[0m\n\u001b[0;32m   4310\u001b[0m             \u001b[1;32melse\u001b[0m\u001b[1;33m:\u001b[0m\u001b[1;33m\u001b[0m\u001b[1;33m\u001b[0m\u001b[0m\n\u001b[1;32m-> 4311\u001b[1;33m                 \u001b[0mnew_axis\u001b[0m \u001b[1;33m=\u001b[0m \u001b[0maxis\u001b[0m\u001b[1;33m.\u001b[0m\u001b[0mdrop\u001b[0m\u001b[1;33m(\u001b[0m\u001b[0mlabels\u001b[0m\u001b[1;33m,\u001b[0m \u001b[0merrors\u001b[0m\u001b[1;33m=\u001b[0m\u001b[0merrors\u001b[0m\u001b[1;33m)\u001b[0m\u001b[1;33m\u001b[0m\u001b[1;33m\u001b[0m\u001b[0m\n\u001b[0m\u001b[0;32m   4312\u001b[0m             \u001b[0mindexer\u001b[0m \u001b[1;33m=\u001b[0m \u001b[0maxis\u001b[0m\u001b[1;33m.\u001b[0m\u001b[0mget_indexer\u001b[0m\u001b[1;33m(\u001b[0m\u001b[0mnew_axis\u001b[0m\u001b[1;33m)\u001b[0m\u001b[1;33m\u001b[0m\u001b[1;33m\u001b[0m\u001b[0m\n\u001b[0;32m   4313\u001b[0m \u001b[1;33m\u001b[0m\u001b[0m\n",
      "\u001b[1;32m~\\anaconda3\\lib\\site-packages\\pandas\\core\\indexes\\base.py\u001b[0m in \u001b[0;36mdrop\u001b[1;34m(self, labels, errors)\u001b[0m\n\u001b[0;32m   6659\u001b[0m         \u001b[1;32mif\u001b[0m \u001b[0mmask\u001b[0m\u001b[1;33m.\u001b[0m\u001b[0many\u001b[0m\u001b[1;33m(\u001b[0m\u001b[1;33m)\u001b[0m\u001b[1;33m:\u001b[0m\u001b[1;33m\u001b[0m\u001b[1;33m\u001b[0m\u001b[0m\n\u001b[0;32m   6660\u001b[0m             \u001b[1;32mif\u001b[0m \u001b[0merrors\u001b[0m \u001b[1;33m!=\u001b[0m \u001b[1;34m\"ignore\"\u001b[0m\u001b[1;33m:\u001b[0m\u001b[1;33m\u001b[0m\u001b[1;33m\u001b[0m\u001b[0m\n\u001b[1;32m-> 6661\u001b[1;33m                 \u001b[1;32mraise\u001b[0m \u001b[0mKeyError\u001b[0m\u001b[1;33m(\u001b[0m\u001b[1;34mf\"{list(labels[mask])} not found in axis\"\u001b[0m\u001b[1;33m)\u001b[0m\u001b[1;33m\u001b[0m\u001b[1;33m\u001b[0m\u001b[0m\n\u001b[0m\u001b[0;32m   6662\u001b[0m             \u001b[0mindexer\u001b[0m \u001b[1;33m=\u001b[0m \u001b[0mindexer\u001b[0m\u001b[1;33m[\u001b[0m\u001b[1;33m~\u001b[0m\u001b[0mmask\u001b[0m\u001b[1;33m]\u001b[0m\u001b[1;33m\u001b[0m\u001b[1;33m\u001b[0m\u001b[0m\n\u001b[0;32m   6663\u001b[0m         \u001b[1;32mreturn\u001b[0m \u001b[0mself\u001b[0m\u001b[1;33m.\u001b[0m\u001b[0mdelete\u001b[0m\u001b[1;33m(\u001b[0m\u001b[0mindexer\u001b[0m\u001b[1;33m)\u001b[0m\u001b[1;33m\u001b[0m\u001b[1;33m\u001b[0m\u001b[0m\n",
      "\u001b[1;31mKeyError\u001b[0m: \"['Likelihood'] not found in axis\""
     ]
    }
   ],
   "source": [
    "import pandas as pd\n",
    "import joblib\n",
    "\n",
    "# Load the trained model\n",
    "loaded_model = joblib.load('unicorn_classifier_model.pkl')\n",
    "\n",
    "# Assuming you have new data in a DataFrame called 'new_data'\n",
    "# Apply the same preprocessing steps as in the training data\n",
    "# For example:\n",
    "# new_data = pd.read_csv('new_data.csv')\n",
    "# new_data = pd.get_dummies(new_data, columns=['Industry', 'Country'])\n",
    "\n",
    "# Predict the likelihood of being a unicorn\n",
    "new_data['Likelihood'] = loaded_model.predict(new_data.drop('Likelihood', axis=1))\n",
    "\n",
    "# Now new_data will have a new column 'Likelihood' with predicted values\n",
    "# You can then further process or analyze the predictions as needed\n",
    "\n"
   ]
  },
  {
   "cell_type": "code",
   "execution_count": 27,
   "id": "12857122-4a74-4eb1-80d3-451a7105797e",
   "metadata": {},
   "outputs": [
    {
     "name": "stdout",
     "output_type": "stream",
     "text": [
      "Dataframe has been exported to Likelihood.csv.\n"
     ]
    }
   ],
   "source": [
    "# Specify the file path where you want to save the CSV file\n",
    "csv_file_path = 'Likelihood.csv'\n",
    "\n",
    "# Export the dataframe to a CSV file\n",
    "existing_unicorn_data.to_csv(csv_file_path, index=False)\n",
    "\n",
    "print(f\"Dataframe has been exported to {csv_file_path}.\")"
   ]
  },
  {
   "cell_type": "code",
   "execution_count": 28,
   "id": "4a408c1a-0dbe-4b1e-a647-9c5426e5b334",
   "metadata": {},
   "outputs": [
    {
     "name": "stdout",
     "output_type": "stream",
     "text": [
      "Random Forest Classifier:\n",
      "              precision    recall  f1-score   support\n",
      "\n",
      "           1       1.00      0.92      0.96        36\n",
      "           2       0.99      1.00      0.99       249\n",
      "\n",
      "    accuracy                           0.99       285\n",
      "   macro avg       0.99      0.96      0.98       285\n",
      "weighted avg       0.99      0.99      0.99       285\n",
      "\n",
      "Gradient Boosting Classifier:\n",
      "              precision    recall  f1-score   support\n",
      "\n",
      "           0       0.00      0.00      0.00         0\n",
      "           1       1.00      0.92      0.96        36\n",
      "           2       0.99      1.00      0.99       249\n",
      "\n",
      "    accuracy                           0.99       285\n",
      "   macro avg       0.66      0.64      0.65       285\n",
      "weighted avg       0.99      0.99      0.99       285\n",
      "\n",
      "Logistic Regression Classifier:\n",
      "              precision    recall  f1-score   support\n",
      "\n",
      "           1       1.00      0.92      0.96        36\n",
      "           2       0.99      1.00      0.99       249\n",
      "\n",
      "    accuracy                           0.99       285\n",
      "   macro avg       0.99      0.96      0.98       285\n",
      "weighted avg       0.99      0.99      0.99       285\n",
      "\n",
      "Support Vector Machines (SVM) Classifier:\n",
      "              precision    recall  f1-score   support\n",
      "\n",
      "           1       1.00      0.92      0.96        36\n",
      "           2       0.99      1.00      0.99       249\n",
      "\n",
      "    accuracy                           0.99       285\n",
      "   macro avg       0.99      0.96      0.98       285\n",
      "weighted avg       0.99      0.99      0.99       285\n",
      "\n"
     ]
    },
    {
     "name": "stderr",
     "output_type": "stream",
     "text": [
      "C:\\Users\\chith\\anaconda3\\lib\\site-packages\\sklearn\\metrics\\_classification.py:1318: UndefinedMetricWarning: Recall and F-score are ill-defined and being set to 0.0 in labels with no true samples. Use `zero_division` parameter to control this behavior.\n",
      "  _warn_prf(average, modifier, msg_start, len(result))\n",
      "C:\\Users\\chith\\anaconda3\\lib\\site-packages\\sklearn\\metrics\\_classification.py:1318: UndefinedMetricWarning: Recall and F-score are ill-defined and being set to 0.0 in labels with no true samples. Use `zero_division` parameter to control this behavior.\n",
      "  _warn_prf(average, modifier, msg_start, len(result))\n",
      "C:\\Users\\chith\\anaconda3\\lib\\site-packages\\sklearn\\metrics\\_classification.py:1318: UndefinedMetricWarning: Recall and F-score are ill-defined and being set to 0.0 in labels with no true samples. Use `zero_division` parameter to control this behavior.\n",
      "  _warn_prf(average, modifier, msg_start, len(result))\n"
     ]
    }
   ],
   "source": [
    "import pandas as pd\n",
    "from sklearn.model_selection import train_test_split\n",
    "from sklearn.ensemble import RandomForestClassifier, GradientBoostingClassifier\n",
    "from sklearn.linear_model import LogisticRegression\n",
    "from sklearn.svm import SVC\n",
    "from sklearn.metrics import classification_report\n",
    "\n",
    "# Prepare the Data\n",
    "existing_unicorn_data = pd.read_csv('existing_unicorn_data.csv')\n",
    "\n",
    "# Perform encoding on categorical variables (one-hot encoding)\n",
    "existing_unicorn_data = pd.get_dummies(existing_unicorn_data, columns=['Industry', 'Country'])\n",
    "\n",
    "# Analyze the distribution of industries and countries\n",
    "industry_distribution = existing_unicorn_data.filter(like='Industry_').sum().to_dict()\n",
    "country_distribution = existing_unicorn_data.filter(like='Country_').sum().to_dict()\n",
    "\n",
    "# Define a function to assign likelihood labels dynamically based on distribution\n",
    "def assign_likelihood_dynamic(row):\n",
    "    likelihood = 0  # Default: low chance\n",
    "\n",
    "    # Assign likelihood based on industry\n",
    "    for industry, count in industry_distribution.items():\n",
    "        if row[industry] == 1:\n",
    "            if count > 40:  # Example threshold for high chance\n",
    "                likelihood = 2  # High chance\n",
    "            elif count > 20:  # Example threshold for medium chance\n",
    "                likelihood = 1  # Medium chance\n",
    "            break  # If industry found, break loop\n",
    "\n",
    "    # Assign likelihood based on country\n",
    "    for country, count in country_distribution.items():\n",
    "        if row[country] == 1:\n",
    "            if count > 80:  # Example threshold for high chance\n",
    "                likelihood = 2  # High chance\n",
    "            elif count > 30:  # Example threshold for medium chance\n",
    "                likelihood = 1  # Medium chance\n",
    "            break  # If country found, break loop\n",
    "\n",
    "    return likelihood\n",
    "\n",
    "# Apply the function to assign likelihood labels\n",
    "existing_unicorn_data['Likelihood'] = existing_unicorn_data.apply(assign_likelihood_dynamic, axis=1)\n",
    "\n",
    "# Train the Models\n",
    "X = existing_unicorn_data.drop('Likelihood', axis=1)\n",
    "y = existing_unicorn_data['Likelihood']\n",
    "\n",
    "X_train, X_test, y_train, y_test = train_test_split(X, y, test_size=0.2, random_state=42)\n",
    "\n",
    "# Train a Random Forest classifier\n",
    "clf_rf = RandomForestClassifier(n_estimators=100, random_state=42)\n",
    "clf_rf.fit(X_train, y_train)\n",
    "\n",
    "# Train a Gradient Boosting classifier\n",
    "clf_gb = GradientBoostingClassifier(random_state=42)\n",
    "clf_gb.fit(X_train, y_train)\n",
    "\n",
    "# Train a Logistic Regression classifier\n",
    "clf_lr = LogisticRegression(random_state=42)\n",
    "clf_lr.fit(X_train, y_train)\n",
    "\n",
    "# Train a Support Vector Machines (SVM) classifier\n",
    "clf_svm = SVC(kernel='linear', random_state=42)\n",
    "clf_svm.fit(X_train, y_train)\n",
    "\n",
    "# Evaluate the Models\n",
    "print(\"Random Forest Classifier:\")\n",
    "y_pred_rf = clf_rf.predict(X_test)\n",
    "print(classification_report(y_test, y_pred_rf))\n",
    "\n",
    "print(\"Gradient Boosting Classifier:\")\n",
    "y_pred_gb = clf_gb.predict(X_test)\n",
    "print(classification_report(y_test, y_pred_gb))\n",
    "\n",
    "print(\"Logistic Regression Classifier:\")\n",
    "y_pred_lr = clf_lr.predict(X_test)\n",
    "print(classification_report(y_test, y_pred_lr))\n",
    "\n",
    "print(\"Support Vector Machines (SVM) Classifier:\")\n",
    "y_pred_svm = clf_svm.predict(X_test)\n",
    "print(classification_report(y_test, y_pred_svm))\n"
   ]
  },
  {
   "cell_type": "code",
   "execution_count": null,
   "id": "2739b634-577e-45d3-8397-0b116b130919",
   "metadata": {},
   "outputs": [],
   "source": []
  }
 ],
 "metadata": {
  "kernelspec": {
   "display_name": "Python 3 (ipykernel)",
   "language": "python",
   "name": "python3"
  },
  "language_info": {
   "codemirror_mode": {
    "name": "ipython",
    "version": 3
   },
   "file_extension": ".py",
   "mimetype": "text/x-python",
   "name": "python",
   "nbconvert_exporter": "python",
   "pygments_lexer": "ipython3",
   "version": "3.9.13"
  }
 },
 "nbformat": 4,
 "nbformat_minor": 5
}
