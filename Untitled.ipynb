{
 "cells": [
  {
   "cell_type": "code",
   "execution_count": 1,
   "id": "e405753b-0c1c-4383-b69a-264fe25918fd",
   "metadata": {},
   "outputs": [
    {
     "name": "stdout",
     "output_type": "stream",
     "text": [
      "              precision    recall  f1-score   support\n",
      "\n",
      "           1       1.00      0.92      0.96        36\n",
      "           2       0.99      1.00      0.99       249\n",
      "\n",
      "    accuracy                           0.99       285\n",
      "   macro avg       0.99      0.96      0.98       285\n",
      "weighted avg       0.99      0.99      0.99       285\n",
      "\n"
     ]
    }
   ],
   "source": [
    "import pandas as pd\n",
    "from sklearn.model_selection import train_test_split\n",
    "from sklearn.ensemble import RandomForestClassifier\n",
    "from sklearn.metrics import classification_report\n",
    "\n",
    "# Prepare the Data\n",
    "existing_unicorn_data = pd.read_csv('existing_unicorn_data.csv')\n",
    "\n",
    "# Perform encoding on categorical variables (one-hot encoding)\n",
    "existing_unicorn_data = pd.get_dummies(existing_unicorn_data, columns=['Industry', 'Country'])\n",
    "\n",
    "# Analyze the distribution of industries and countries\n",
    "industry_distribution = existing_unicorn_data.filter(like='Industry_').sum().to_dict()\n",
    "country_distribution = existing_unicorn_data.filter(like='Country_').sum().to_dict()\n",
    "\n",
    "# Define a function to assign likelihood labels dynamically based on distribution\n",
    "def assign_likelihood_dynamic(row):\n",
    "    likelihood = 0  # Default: low chance\n",
    "\n",
    "    # Assign likelihood based on industry\n",
    "    for industry, count in industry_distribution.items():\n",
    "        if row[industry] == 1:\n",
    "            if count > 40:  # Example threshold for high chance\n",
    "                likelihood = 2  # High chance\n",
    "            elif count > 20:  # Example threshold for medium chance\n",
    "                likelihood = 1  # Medium chance\n",
    "            break  # If industry found, break loop\n",
    "\n",
    "    # Assign likelihood based on country\n",
    "    for country, count in country_distribution.items():\n",
    "        if row[country] == 1:\n",
    "            if count > 80:  # Example threshold for high chance\n",
    "                likelihood = 2  # High chance\n",
    "            elif count > 30:  # Example threshold for medium chance\n",
    "                likelihood = 1  # Medium chance\n",
    "            break  # If country found, break loop\n",
    "\n",
    "    return likelihood\n",
    "\n",
    "# Apply the function to assign likelihood labels\n",
    "existing_unicorn_data['Likelihood'] = existing_unicorn_data.apply(assign_likelihood_dynamic, axis=1)\n",
    "\n",
    "# Train the Model\n",
    "X = existing_unicorn_data.drop('Likelihood', axis=1)\n",
    "y = existing_unicorn_data['Likelihood']\n",
    "\n",
    "X_train, X_test, y_train, y_test = train_test_split(X, y, test_size=0.2, random_state=42)\n",
    "\n",
    "# Train a Random Forest classifier\n",
    "clf = RandomForestClassifier(n_estimators=100, random_state=42)\n",
    "clf.fit(X_train, y_train)\n",
    "\n",
    "# Evaluate the Model\n",
    "y_pred = clf.predict(X_test)\n",
    "print(classification_report(y_test, y_pred))"
   ]
  },
  {
   "cell_type": "code",
   "execution_count": 2,
   "id": "d88c5de1-1114-4348-974f-b45e64da920e",
   "metadata": {},
   "outputs": [
    {
     "data": {
      "text/plain": [
       "array([2, 2, 2, ..., 2, 2, 2], dtype=int64)"
      ]
     },
     "execution_count": 2,
     "metadata": {},
     "output_type": "execute_result"
    }
   ],
   "source": [
    "# Step 5: Predict on New Data\n",
    "\n",
    "# Assuming you have new data in a DataFrame called 'new_data'\n",
    "new_data = pd.read_csv('existing_unicorn_data.csv')\n",
    "# Perform the same preprocessing steps as above\n",
    "new_data_encoded = pd.get_dummies(new_data, columns=['Industry', 'Country'])\n",
    "\n",
    "# Ensure the new_data_encoded DataFrame has the same columns as X_train\n",
    "# Add missing columns with zeros if necessary\n",
    "missing_cols = set(X_train.columns) - set(new_data_encoded.columns)\n",
    "for col in missing_cols:\n",
    "    new_data_encoded[col] = 0\n",
    "\n",
    "# Make predictions\n",
    "predictions = clf.predict(new_data_encoded)\n",
    "\n",
    "# Print the predictions\n",
    "predictions\n"
   ]
  },
  {
   "cell_type": "code",
   "execution_count": 3,
   "id": "782104eb-9ed2-49cf-93cf-2231695c3932",
   "metadata": {},
   "outputs": [
    {
     "data": {
      "text/plain": [
       "['unicorn_classifier_model.pkl']"
      ]
     },
     "execution_count": 3,
     "metadata": {},
     "output_type": "execute_result"
    }
   ],
   "source": [
    "import joblib\n",
    "\n",
    "# Step 6: Export the Model\n",
    "# Save the trained model to a file\n",
    "joblib.dump(clf, 'unicorn_classifier_model.pkl')\n",
    "\n",
    "# Later, you can load the model using:\n",
    "# loaded_model = joblib.load('unicorn_classifier_model.pkl')\n",
    "\n"
   ]
  },
  {
   "cell_type": "code",
   "execution_count": 4,
   "id": "12857122-4a74-4eb1-80d3-451a7105797e",
   "metadata": {},
   "outputs": [
    {
     "name": "stdout",
     "output_type": "stream",
     "text": [
      "Dataframe has been exported to Likelihood.csv.\n"
     ]
    }
   ],
   "source": [
    "# Specify the file path where you want to save the CSV file\n",
    "csv_file_path = 'Likelihood.csv'\n",
    "\n",
    "# Export the dataframe to a CSV file\n",
    "existing_unicorn_data.to_csv(csv_file_path, index=False)\n",
    "\n",
    "print(f\"Dataframe has been exported to {csv_file_path}.\")"
   ]
  },
  {
   "cell_type": "code",
   "execution_count": 5,
   "id": "4a408c1a-0dbe-4b1e-a647-9c5426e5b334",
   "metadata": {},
   "outputs": [
    {
     "name": "stdout",
     "output_type": "stream",
     "text": [
      "Random Forest Classifier:\n",
      "              precision    recall  f1-score   support\n",
      "\n",
      "           1       1.00      0.96      0.98        72\n",
      "           2       0.99      1.00      1.00       498\n",
      "\n",
      "    accuracy                           0.99       570\n",
      "   macro avg       1.00      0.98      0.99       570\n",
      "weighted avg       0.99      0.99      0.99       570\n",
      "\n",
      "Gradient Boosting Classifier:\n",
      "              precision    recall  f1-score   support\n",
      "\n",
      "           1       1.00      0.96      0.98        72\n",
      "           2       0.99      1.00      1.00       498\n",
      "\n",
      "    accuracy                           0.99       570\n",
      "   macro avg       1.00      0.98      0.99       570\n",
      "weighted avg       0.99      0.99      0.99       570\n",
      "\n",
      "Logistic Regression Classifier:\n",
      "              precision    recall  f1-score   support\n",
      "\n",
      "           1       1.00      0.96      0.98        72\n",
      "           2       0.99      1.00      1.00       498\n",
      "\n",
      "    accuracy                           0.99       570\n",
      "   macro avg       1.00      0.98      0.99       570\n",
      "weighted avg       0.99      0.99      0.99       570\n",
      "\n",
      "Support Vector Machines (SVM) Classifier:\n",
      "              precision    recall  f1-score   support\n",
      "\n",
      "           1       1.00      0.96      0.98        72\n",
      "           2       0.99      1.00      1.00       498\n",
      "\n",
      "    accuracy                           0.99       570\n",
      "   macro avg       1.00      0.98      0.99       570\n",
      "weighted avg       0.99      0.99      0.99       570\n",
      "\n"
     ]
    }
   ],
   "source": [
    "import pandas as pd\n",
    "from sklearn.model_selection import train_test_split\n",
    "from sklearn.ensemble import RandomForestClassifier, GradientBoostingClassifier\n",
    "from sklearn.linear_model import LogisticRegression\n",
    "from sklearn.svm import SVC\n",
    "from sklearn.metrics import classification_report\n",
    "\n",
    "# Prepare the Data\n",
    "existing_unicorn_data = pd.read_csv('existing_unicorn_data.csv')\n",
    "\n",
    "# Perform encoding on categorical variables (one-hot encoding)\n",
    "existing_unicorn_data = pd.get_dummies(existing_unicorn_data, columns=['Industry', 'Country'])\n",
    "\n",
    "# Analyze the distribution of industries and countries\n",
    "industry_distribution = existing_unicorn_data.filter(like='Industry_').sum().to_dict()\n",
    "country_distribution = existing_unicorn_data.filter(like='Country_').sum().to_dict()\n",
    "\n",
    "# Define a function to assign likelihood labels dynamically based on distribution\n",
    "def assign_likelihood_dynamic(row):\n",
    "    likelihood = 0  # Default: low chance\n",
    "\n",
    "    # Assign likelihood based on industry\n",
    "    for industry, count in industry_distribution.items():\n",
    "        if row[industry] == 1:\n",
    "            if count > 40:  # Example threshold for high chance\n",
    "                likelihood = 2  # High chance\n",
    "            elif count > 20:  # Example threshold for medium chance\n",
    "                likelihood = 1  # Medium chance\n",
    "            break  # If industry found, break loop\n",
    "\n",
    "    # Assign likelihood based on country\n",
    "    for country, count in country_distribution.items():\n",
    "        if row[country] == 1:\n",
    "            if count > 80:  # Example threshold for high chance\n",
    "                likelihood = 2  # High chance\n",
    "            elif count > 30:  # Example threshold for medium chance\n",
    "                likelihood = 1  # Medium chance\n",
    "            break  # If country found, break loop\n",
    "\n",
    "    return likelihood\n",
    "\n",
    "# Apply the function to assign likelihood labels\n",
    "existing_unicorn_data['Likelihood'] = existing_unicorn_data.apply(assign_likelihood_dynamic, axis=1)\n",
    "\n",
    "# Train the Models\n",
    "X = existing_unicorn_data.drop('Likelihood', axis=1)\n",
    "y = existing_unicorn_data['Likelihood']\n",
    "\n",
    "X_train, X_test, y_train, y_test = train_test_split(X, y, test_size=0.4, random_state=42)\n",
    "\n",
    "# Train a Random Forest classifier\n",
    "clf_rf = RandomForestClassifier(n_estimators=100, random_state=42)\n",
    "clf_rf.fit(X_train, y_train)\n",
    "\n",
    "# Train a Gradient Boosting classifier\n",
    "clf_gb = GradientBoostingClassifier(random_state=42)\n",
    "clf_gb.fit(X_train, y_train)\n",
    "\n",
    "# Train a Logistic Regression classifier\n",
    "clf_lr = LogisticRegression(random_state=42)\n",
    "clf_lr.fit(X_train, y_train)\n",
    "\n",
    "# Train a Support Vector Machines (SVM) classifier\n",
    "clf_svm = SVC(kernel='linear', random_state=42)\n",
    "clf_svm.fit(X_train, y_train)\n",
    "\n",
    "# Evaluate the Models\n",
    "print(\"Random Forest Classifier:\")\n",
    "y_pred_rf = clf_rf.predict(X_test)\n",
    "print(classification_report(y_test, y_pred_rf))\n",
    "\n",
    "print(\"Gradient Boosting Classifier:\")\n",
    "y_pred_gb = clf_gb.predict(X_test)\n",
    "print(classification_report(y_test, y_pred_gb))\n",
    "\n",
    "print(\"Logistic Regression Classifier:\")\n",
    "y_pred_lr = clf_lr.predict(X_test)\n",
    "print(classification_report(y_test, y_pred_lr))\n",
    "\n",
    "print(\"Support Vector Machines (SVM) Classifier:\")\n",
    "y_pred_svm = clf_svm.predict(X_test)\n",
    "print(classification_report(y_test, y_pred_svm))\n"
   ]
  },
  {
   "cell_type": "code",
   "execution_count": null,
   "id": "2739b634-577e-45d3-8397-0b116b130919",
   "metadata": {},
   "outputs": [],
   "source": []
  }
 ],
 "metadata": {
  "kernelspec": {
   "display_name": "Python 3 (ipykernel)",
   "language": "python",
   "name": "python3"
  },
  "language_info": {
   "codemirror_mode": {
    "name": "ipython",
    "version": 3
   },
   "file_extension": ".py",
   "mimetype": "text/x-python",
   "name": "python",
   "nbconvert_exporter": "python",
   "pygments_lexer": "ipython3",
   "version": "3.9.13"
  }
 },
 "nbformat": 4,
 "nbformat_minor": 5
}
